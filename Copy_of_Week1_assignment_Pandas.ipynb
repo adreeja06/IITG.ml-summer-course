{
  "cells": [
    {
      "cell_type": "markdown",
      "metadata": {
        "id": "view-in-github",
        "colab_type": "text"
      },
      "source": [
        "<a href=\"https://colab.research.google.com/github/adreeja06/IITG.ml-summer-course/blob/main/Copy_of_Week1_assignment_Pandas.ipynb\" target=\"_parent\"><img src=\"https://colab.research.google.com/assets/colab-badge.svg\" alt=\"Open In Colab\"/></a>"
      ]
    },
    {
      "cell_type": "markdown",
      "source": [
        "<h3> Instructions </h3>\n",
        "<br>\n",
        "<p>1. Open the notebook file that needs to be copied and edited.<br>\n",
        "2. Go to the \"File\" tab in the notebook's menu bar.<br>\n",
        "3. Select \"Save to Drive\" to create a copy of the notebook in your own Google Drive.<br>\n",
        "4. Once the notebook is saved to your Drive, open it for editing.<br>\n",
        "<br>\n",
        "To work on the exercises in the notebook, follow these steps:<br>\n",
        "1. Read the instructions and explanations provided for each exercise carefully<br>\n",
        "2. Write your code solutions for each exercise in the designated code cells.<br>\n",
        "3. Download the dataset (.csv file) shared in the folder and upload it to the colab session.<br>\n",
        "\n",
        "Important Note: It is recommended to read and understand the exercises thoroughly, as questions related to this assignment may be asked in a quiz.</p>"
      ],
      "metadata": {
        "id": "DHpZLBBG_zZr"
      },
      "id": "DHpZLBBG_zZr"
    },
    {
      "cell_type": "markdown",
      "id": "6c3f7b3e",
      "metadata": {
        "id": "6c3f7b3e"
      },
      "source": [
        " ## Welcome To The Week1 Assignment\n",
        " \n",
        "#### In this assignment we will analyze the Titanic dataset with the help of pandas <br>"
      ]
    },
    {
      "cell_type": "markdown",
      "id": "89a04c02",
      "metadata": {
        "id": "89a04c02"
      },
      "source": [
        "![Titanic](https://akm-img-a-in.tosshub.com/indiatoday/images/story/201506/bil0510_rms-titanic_647_060515043509.jpg?size=1200:675)"
      ]
    },
    {
      "cell_type": "markdown",
      "id": "fa7b53a5",
      "metadata": {
        "id": "fa7b53a5"
      },
      "source": [
        "`Note: You will be asked various question from this assignment in the Google Form, and also you need to submit this notebook. So Kindly maintain this Notebook Properly`"
      ]
    },
    {
      "cell_type": "markdown",
      "id": "eaf31b2e",
      "metadata": {
        "id": "eaf31b2e"
      },
      "source": [
        "**bold text**### 1) Start this assignment by importing all the important Libraries\n",
        "for eg. import pandas as pd"
      ]
    },
    {
      "cell_type": "code",
      "execution_count": null,
      "id": "e51b89df",
      "metadata": {
        "id": "e51b89df"
      },
      "outputs": [],
      "source": [
        "import pandas as pd  # Import pandas for data analysis\n",
        "\n",
        "import numpy as np  # Import numpy for numerical operations\n",
        "\n",
        "import matplotlib.pyplot as plt  # Import matplotlib for data visualization\n",
        "\n",
        "import seaborn as sns  # Import seaborn for advanced data visualization\n",
        "\n",
        "# Additional libraries for specific tasks\n",
        "import sklearn  # Import scikit-learn for machine learning tasks\n",
        "import scipy  # Import scipy for scientific computations\n",
        "import statsmodels.api as sm  # Import statsmodels for statistical modeling\n"
      ]
    },
    {
      "cell_type": "markdown",
      "id": "2d6ef581",
      "metadata": {
        "id": "2d6ef581"
      },
      "source": [
        "### 2) Read the csv file and assign it to a variable"
      ]
    },
    {
      "cell_type": "markdown",
      "id": "0508107a",
      "metadata": {
        "id": "0508107a"
      },
      "source": [
        "Note: Download the titanic.csv file from the google drive, and place it in the folder same as this notebook"
      ]
    },
    {
      "cell_type": "code",
      "execution_count": 2,
      "id": "62ed9a5e",
      "metadata": {
        "id": "62ed9a5e"
      },
      "outputs": [],
      "source": [
        "import pandas as pd\n",
        "\n",
        "# Read the CSV file\n",
        "titanic_data = pd.read_csv('titanic.csv')\n",
        "\n",
        "\n"
      ]
    },
    {
      "cell_type": "markdown",
      "id": "155a41c0",
      "metadata": {
        "id": "155a41c0"
      },
      "source": [
        "#### Display the first 5 entries of DataFrame\n",
        "Hint: use head() function"
      ]
    },
    {
      "cell_type": "code",
      "execution_count": 3,
      "id": "41c6f793",
      "metadata": {
        "id": "41c6f793",
        "colab": {
          "base_uri": "https://localhost:8080/"
        },
        "outputId": "7a7eca3c-5017-43e2-8fa8-31711c0391eb"
      },
      "outputs": [
        {
          "output_type": "stream",
          "name": "stdout",
          "text": [
            "   PassengerId  Survived  Pclass  \\\n",
            "0          892         0       3   \n",
            "1          893         1       3   \n",
            "2          894         0       2   \n",
            "3          895         0       3   \n",
            "4          896         1       3   \n",
            "\n",
            "                                           Name     Sex   Age  SibSp  Parch  \\\n",
            "0                              Kelly, Mr. James    male  34.5      0      0   \n",
            "1              Wilkes, Mrs. James (Ellen Needs)  female  47.0      1      0   \n",
            "2                     Myles, Mr. Thomas Francis    male  62.0      0      0   \n",
            "3                              Wirz, Mr. Albert    male  27.0      0      0   \n",
            "4  Hirvonen, Mrs. Alexander (Helga E Lindqvist)  female  22.0      1      1   \n",
            "\n",
            "    Ticket     Fare Cabin Embarked  \n",
            "0   330911   7.8292   NaN        Q  \n",
            "1   363272   7.0000   NaN        S  \n",
            "2   240276   9.6875   NaN        Q  \n",
            "3   315154   8.6625   NaN        S  \n",
            "4  3101298  12.2875   NaN        S  \n"
          ]
        }
      ],
      "source": [
        "print(titanic_data.head(5))\n"
      ]
    },
    {
      "cell_type": "markdown",
      "id": "42f4fa17",
      "metadata": {
        "id": "42f4fa17"
      },
      "source": [
        "\n",
        "\n",
        "```\n",
        "# This is formatted as code\n",
        "```\n",
        "\n",
        "#### Display the last 5 entries of DataFrame\n",
        "Hint: use tail() function"
      ]
    },
    {
      "cell_type": "code",
      "execution_count": 4,
      "id": "8118e8be",
      "metadata": {
        "id": "8118e8be",
        "colab": {
          "base_uri": "https://localhost:8080/"
        },
        "outputId": "c02c4572-56df-4c69-cef4-1c5e2d77ea2b"
      },
      "outputs": [
        {
          "output_type": "stream",
          "name": "stdout",
          "text": [
            "     PassengerId  Survived  Pclass                          Name     Sex  \\\n",
            "413         1305         0       3            Spector, Mr. Woolf    male   \n",
            "414         1306         1       1  Oliva y Ocana, Dona. Fermina  female   \n",
            "415         1307         0       3  Saether, Mr. Simon Sivertsen    male   \n",
            "416         1308         0       3           Ware, Mr. Frederick    male   \n",
            "417         1309         0       3      Peter, Master. Michael J    male   \n",
            "\n",
            "      Age  SibSp  Parch              Ticket      Fare Cabin Embarked  \n",
            "413   NaN      0      0           A.5. 3236    8.0500   NaN        S  \n",
            "414  39.0      0      0            PC 17758  108.9000  C105        C  \n",
            "415  38.5      0      0  SOTON/O.Q. 3101262    7.2500   NaN        S  \n",
            "416   NaN      0      0              359309    8.0500   NaN        S  \n",
            "417   NaN      1      1                2668   22.3583   NaN        C  \n"
          ]
        }
      ],
      "source": [
        "print(titanic_data.tail(5))\n"
      ]
    },
    {
      "cell_type": "markdown",
      "id": "2eb51ccc",
      "metadata": {
        "id": "2eb51ccc"
      },
      "source": [
        "### 3) Display the shape of the Dataframe"
      ]
    },
    {
      "cell_type": "code",
      "execution_count": 5,
      "id": "ab3c9756",
      "metadata": {
        "id": "ab3c9756",
        "colab": {
          "base_uri": "https://localhost:8080/"
        },
        "outputId": "301ee933-b191-4d58-e27c-7603b01a92c1"
      },
      "outputs": [
        {
          "output_type": "stream",
          "name": "stdout",
          "text": [
            "(418, 12)\n"
          ]
        }
      ],
      "source": [
        "print(titanic_data.shape)\n"
      ]
    },
    {
      "cell_type": "markdown",
      "id": "5d337fea",
      "metadata": {
        "id": "5d337fea"
      },
      "source": [
        "[link text](https://)### 4) Print all the columns of the Dataframe"
      ]
    },
    {
      "cell_type": "code",
      "execution_count": 6,
      "id": "8b3a05db",
      "metadata": {
        "id": "8b3a05db",
        "colab": {
          "base_uri": "https://localhost:8080/"
        },
        "outputId": "3932a979-e535-4739-877b-1fd12a10dc8a"
      },
      "outputs": [
        {
          "output_type": "stream",
          "name": "stdout",
          "text": [
            "Index(['PassengerId', 'Survived', 'Pclass', 'Name', 'Sex', 'Age', 'SibSp',\n",
            "       'Parch', 'Ticket', 'Fare', 'Cabin', 'Embarked'],\n",
            "      dtype='object')\n"
          ]
        }
      ],
      "source": [
        "print(titanic_data.columns)\n"
      ]
    },
    {
      "cell_type": "markdown",
      "id": "4ba56544",
      "metadata": {
        "id": "4ba56544"
      },
      "source": [
        "About Data:<br>\n",
        "__PassangerId__: Passanger Number<br>\n",
        "__Survived__: Dead(0), Alive(1)<br>\n",
        "__PClass__: Class in which the passenger is travelling<br>\n",
        "__Name__: Name of the Passenger<br>\n",
        "__Sex__: Male,Female<br>\n",
        "__Age__: Age of the passenger<br>\n",
        "__SibSp__: Number of siblings<br>\n",
        "__Parch__: # of siblings / spouses aboard the Titanic<br>\n",
        "__Ticket__: Ticket number<br>\n",
        "__Fare__: Passenger Fare<br>\n",
        "__Cabin__: Cabin number<br>\n",
        "__Embarked__: Port of Embarkation (C = Cherbourg, Q = Queenstown, S = Southampton)<br>"
      ]
    },
    {
      "cell_type": "markdown",
      "id": "278f4acb",
      "metadata": {
        "id": "278f4acb"
      },
      "source": [
        "[link text](https://)### 5) Print the unique values in each column"
      ]
    },
    {
      "cell_type": "code",
      "execution_count": 7,
      "id": "e15eb890",
      "metadata": {
        "id": "e15eb890",
        "colab": {
          "base_uri": "https://localhost:8080/"
        },
        "outputId": "08394d36-d771-4e49-e726-385adb7855d8"
      },
      "outputs": [
        {
          "output_type": "stream",
          "name": "stdout",
          "text": [
            "Unique values in column PassengerId:\n",
            "[ 892  893  894  895  896  897  898  899  900  901  902  903  904  905\n",
            "  906  907  908  909  910  911  912  913  914  915  916  917  918  919\n",
            "  920  921  922  923  924  925  926  927  928  929  930  931  932  933\n",
            "  934  935  936  937  938  939  940  941  942  943  944  945  946  947\n",
            "  948  949  950  951  952  953  954  955  956  957  958  959  960  961\n",
            "  962  963  964  965  966  967  968  969  970  971  972  973  974  975\n",
            "  976  977  978  979  980  981  982  983  984  985  986  987  988  989\n",
            "  990  991  992  993  994  995  996  997  998  999 1000 1001 1002 1003\n",
            " 1004 1005 1006 1007 1008 1009 1010 1011 1012 1013 1014 1015 1016 1017\n",
            " 1018 1019 1020 1021 1022 1023 1024 1025 1026 1027 1028 1029 1030 1031\n",
            " 1032 1033 1034 1035 1036 1037 1038 1039 1040 1041 1042 1043 1044 1045\n",
            " 1046 1047 1048 1049 1050 1051 1052 1053 1054 1055 1056 1057 1058 1059\n",
            " 1060 1061 1062 1063 1064 1065 1066 1067 1068 1069 1070 1071 1072 1073\n",
            " 1074 1075 1076 1077 1078 1079 1080 1081 1082 1083 1084 1085 1086 1087\n",
            " 1088 1089 1090 1091 1092 1093 1094 1095 1096 1097 1098 1099 1100 1101\n",
            " 1102 1103 1104 1105 1106 1107 1108 1109 1110 1111 1112 1113 1114 1115\n",
            " 1116 1117 1118 1119 1120 1121 1122 1123 1124 1125 1126 1127 1128 1129\n",
            " 1130 1131 1132 1133 1134 1135 1136 1137 1138 1139 1140 1141 1142 1143\n",
            " 1144 1145 1146 1147 1148 1149 1150 1151 1152 1153 1154 1155 1156 1157\n",
            " 1158 1159 1160 1161 1162 1163 1164 1165 1166 1167 1168 1169 1170 1171\n",
            " 1172 1173 1174 1175 1176 1177 1178 1179 1180 1181 1182 1183 1184 1185\n",
            " 1186 1187 1188 1189 1190 1191 1192 1193 1194 1195 1196 1197 1198 1199\n",
            " 1200 1201 1202 1203 1204 1205 1206 1207 1208 1209 1210 1211 1212 1213\n",
            " 1214 1215 1216 1217 1218 1219 1220 1221 1222 1223 1224 1225 1226 1227\n",
            " 1228 1229 1230 1231 1232 1233 1234 1235 1236 1237 1238 1239 1240 1241\n",
            " 1242 1243 1244 1245 1246 1247 1248 1249 1250 1251 1252 1253 1254 1255\n",
            " 1256 1257 1258 1259 1260 1261 1262 1263 1264 1265 1266 1267 1268 1269\n",
            " 1270 1271 1272 1273 1274 1275 1276 1277 1278 1279 1280 1281 1282 1283\n",
            " 1284 1285 1286 1287 1288 1289 1290 1291 1292 1293 1294 1295 1296 1297\n",
            " 1298 1299 1300 1301 1302 1303 1304 1305 1306 1307 1308 1309]\n",
            "\n",
            "Unique values in column Survived:\n",
            "[0 1]\n",
            "\n",
            "Unique values in column Pclass:\n",
            "[3 2 1]\n",
            "\n",
            "Unique values in column Name:\n",
            "['Kelly, Mr. James' 'Wilkes, Mrs. James (Ellen Needs)'\n",
            " 'Myles, Mr. Thomas Francis' 'Wirz, Mr. Albert'\n",
            " 'Hirvonen, Mrs. Alexander (Helga E Lindqvist)'\n",
            " 'Svensson, Mr. Johan Cervin' 'Connolly, Miss. Kate'\n",
            " 'Caldwell, Mr. Albert Francis'\n",
            " 'Abrahim, Mrs. Joseph (Sophie Halaut Easu)' 'Davies, Mr. John Samuel'\n",
            " 'Ilieff, Mr. Ylio' 'Jones, Mr. Charles Cresson'\n",
            " 'Snyder, Mrs. John Pillsbury (Nelle Stevenson)' 'Howard, Mr. Benjamin'\n",
            " 'Chaffee, Mrs. Herbert Fuller (Carrie Constance Toogood)'\n",
            " 'del Carlo, Mrs. Sebastiano (Argenia Genovesi)' 'Keane, Mr. Daniel'\n",
            " 'Assaf, Mr. Gerios' 'Ilmakangas, Miss. Ida Livija'\n",
            " 'Assaf Khalil, Mrs. Mariana (Miriam\")\"' 'Rothschild, Mr. Martin'\n",
            " 'Olsen, Master. Artur Karl' 'Flegenheim, Mrs. Alfred (Antoinette)'\n",
            " 'Williams, Mr. Richard Norris II'\n",
            " 'Ryerson, Mrs. Arthur Larned (Emily Maria Borie)'\n",
            " 'Robins, Mr. Alexander A' 'Ostby, Miss. Helene Ragnhild'\n",
            " 'Daher, Mr. Shedid' 'Brady, Mr. John Bertram' 'Samaan, Mr. Elias'\n",
            " 'Louch, Mr. Charles Alexander' 'Jefferys, Mr. Clifford Thomas'\n",
            " 'Dean, Mrs. Bertram (Eva Georgetta Light)'\n",
            " 'Johnston, Mrs. Andrew G (Elizabeth Lily\" Watson)\"'\n",
            " 'Mock, Mr. Philipp Edmund'\n",
            " 'Katavelas, Mr. Vassilios (Catavelas Vassilios\")\"' 'Roth, Miss. Sarah A'\n",
            " 'Cacic, Miss. Manda' 'Sap, Mr. Julius' 'Hee, Mr. Ling' 'Karun, Mr. Franz'\n",
            " 'Franklin, Mr. Thomas Parham' 'Goldsmith, Mr. Nathan'\n",
            " 'Corbett, Mrs. Walter H (Irene Colvin)'\n",
            " 'Kimball, Mrs. Edwin Nelson Jr (Gertrude Parsons)'\n",
            " 'Peltomaki, Mr. Nikolai Johannes' 'Chevre, Mr. Paul Romaine'\n",
            " 'Shaughnessy, Mr. Patrick'\n",
            " 'Bucknell, Mrs. William Robert (Emma Eliza Ward)'\n",
            " 'Coutts, Mrs. William (Winnie Minnie\" Treanor)\"'\n",
            " 'Smith, Mr. Lucien Philip' 'Pulbaum, Mr. Franz'\n",
            " 'Hocking, Miss. Ellen Nellie\"\"' 'Fortune, Miss. Ethel Flora'\n",
            " 'Mangiavacchi, Mr. Serafino Emilio' 'Rice, Master. Albert'\n",
            " 'Cor, Mr. Bartol' 'Abelseth, Mr. Olaus Jorgensen'\n",
            " 'Davison, Mr. Thomas Henry' 'Chaudanson, Miss. Victorine'\n",
            " 'Dika, Mr. Mirko' 'McCrae, Mr. Arthur Gordon'\n",
            " 'Bjorklund, Mr. Ernst Herbert' 'Bradley, Miss. Bridget Delia'\n",
            " 'Ryerson, Master. John Borie'\n",
            " 'Corey, Mrs. Percy C (Mary Phyllis Elizabeth Miller)'\n",
            " 'Burns, Miss. Mary Delia' 'Moore, Mr. Clarence Bloomfield'\n",
            " 'Tucker, Mr. Gilbert Milligan Jr' 'Fortune, Mrs. Mark (Mary McDougald)'\n",
            " 'Mulvihill, Miss. Bertha E' 'Minkoff, Mr. Lazar'\n",
            " 'Nieminen, Miss. Manta Josefina' 'Ovies y Rodriguez, Mr. Servando'\n",
            " 'Geiger, Miss. Amalie' 'Keeping, Mr. Edwin' 'Miles, Mr. Frank'\n",
            " 'Cornell, Mrs. Robert Clifford (Malvina Helen Lamson)'\n",
            " 'Aldworth, Mr. Charles Augustus' 'Doyle, Miss. Elizabeth'\n",
            " 'Boulos, Master. Akar' 'Straus, Mr. Isidor' 'Case, Mr. Howard Brown'\n",
            " 'Demetri, Mr. Marinko' 'Lamb, Mr. John Joseph' 'Khalil, Mr. Betros'\n",
            " 'Barry, Miss. Julia' 'Badman, Miss. Emily Louisa'\n",
            " \"O'Donoghue, Ms. Bridget\" 'Wells, Master. Ralph Lester'\n",
            " 'Dyker, Mrs. Adolf Fredrik (Anna Elisabeth Judith Andersson)'\n",
            " 'Pedersen, Mr. Olaf' 'Davidson, Mrs. Thornton (Orian Hays)'\n",
            " 'Guest, Mr. Robert' 'Birnbaum, Mr. Jakob' 'Tenglin, Mr. Gunnar Isidor'\n",
            " 'Cavendish, Mrs. Tyrell William (Julia Florence Siegel)'\n",
            " 'Makinen, Mr. Kalle Edvard' 'Braf, Miss. Elin Ester Maria'\n",
            " 'Nancarrow, Mr. William Henry'\n",
            " 'Stengel, Mrs. Charles Emil Henry (Annie May Morris)'\n",
            " 'Weisz, Mr. Leopold' 'Foley, Mr. William'\n",
            " 'Johansson Palmquist, Mr. Oskar Leander'\n",
            " 'Thomas, Mrs. Alexander (Thamine Thelma\")\"' 'Holthen, Mr. Johan Martin'\n",
            " 'Buckley, Mr. Daniel' 'Ryan, Mr. Edward'\n",
            " 'Willer, Mr. Aaron (Abi Weller\")\"' 'Swane, Mr. George'\n",
            " 'Stanton, Mr. Samuel Ward' 'Shine, Miss. Ellen Natalia'\n",
            " 'Evans, Miss. Edith Corse' 'Buckley, Miss. Katherine'\n",
            " 'Straus, Mrs. Isidor (Rosalie Ida Blun)' 'Chronopoulos, Mr. Demetrios'\n",
            " 'Thomas, Mr. John' 'Sandstrom, Miss. Beatrice Irene'\n",
            " 'Beattie, Mr. Thomson' 'Chapman, Mrs. John Henry (Sara Elizabeth Lawry)'\n",
            " 'Watt, Miss. Bertha J' 'Kiernan, Mr. John'\n",
            " 'Schabert, Mrs. Paul (Emma Mock)' 'Carver, Mr. Alfred John'\n",
            " 'Kennedy, Mr. John' 'Cribb, Miss. Laura Alice' 'Brobeck, Mr. Karl Rudolf'\n",
            " 'McCoy, Miss. Alicia' 'Bowenur, Mr. Solomon' 'Petersen, Mr. Marius'\n",
            " 'Spinner, Mr. Henry John' 'Gracie, Col. Archibald IV'\n",
            " 'Lefebre, Mrs. Frank (Frances)' 'Thomas, Mr. Charles P'\n",
            " 'Dintcheff, Mr. Valtcho' 'Carlsson, Mr. Carl Robert'\n",
            " 'Zakarian, Mr. Mapriededer' 'Schmidt, Mr. August' 'Drapkin, Miss. Jennie'\n",
            " 'Goodwin, Mr. Charles Frederick' 'Goodwin, Miss. Jessie Allis'\n",
            " 'Daniels, Miss. Sarah' 'Ryerson, Mr. Arthur Larned'\n",
            " 'Beauchamp, Mr. Henry James'\n",
            " 'Lindeberg-Lind, Mr. Erik Gustaf (Mr Edward Lingrey\")\"'\n",
            " 'Vander Planke, Mr. Julius' 'Hilliard, Mr. Herbert Henry'\n",
            " 'Davies, Mr. Evan' 'Crafton, Mr. John Bertram' 'Lahtinen, Rev. William'\n",
            " 'Earnshaw, Mrs. Boulton (Olive Potter)' 'Matinoff, Mr. Nicola'\n",
            " 'Storey, Mr. Thomas' 'Klasen, Mrs. (Hulda Kristina Eugenia Lofqvist)'\n",
            " 'Asplund, Master. Filip Oscar' 'Duquemin, Mr. Joseph' 'Bird, Miss. Ellen'\n",
            " 'Lundin, Miss. Olga Elida' 'Borebank, Mr. John James'\n",
            " 'Peacock, Mrs. Benjamin (Edith Nile)' 'Smyth, Miss. Julia'\n",
            " 'Touma, Master. Georges Youssef' 'Wright, Miss. Marion'\n",
            " 'Pearce, Mr. Ernest' 'Peruschitz, Rev. Joseph Maria'\n",
            " 'Kink-Heilmann, Mrs. Anton (Luise Heilmann)' 'Brandeis, Mr. Emil'\n",
            " 'Ford, Mr. Edward Watson'\n",
            " 'Cassebeer, Mrs. Henry Arthur Jr (Eleanor Genevieve Fosdick)'\n",
            " 'Hellstrom, Miss. Hilda Maria' 'Lithman, Mr. Simon' 'Zakarian, Mr. Ortin'\n",
            " 'Dyker, Mr. Adolf Fredrik' 'Torfa, Mr. Assad'\n",
            " 'Asplund, Mr. Carl Oscar Vilhelm Gustafsson' 'Brown, Miss. Edith Eileen'\n",
            " 'Sincock, Miss. Maude' 'Stengel, Mr. Charles Emil Henry'\n",
            " 'Becker, Mrs. Allen Oliver (Nellie E Baumgardner)'\n",
            " 'Compton, Mrs. Alexander Taylor (Mary Eliza Ingersoll)'\n",
            " 'McCrie, Mr. James Matthew' 'Compton, Mr. Alexander Taylor Jr'\n",
            " 'Marvin, Mrs. Daniel Warner (Mary Graham Carmichael Farquarson)'\n",
            " 'Lane, Mr. Patrick'\n",
            " 'Douglas, Mrs. Frederick Charles (Mary Helene Baxter)'\n",
            " 'Maybery, Mr. Frank Hubert' 'Phillips, Miss. Alice Frances Louisa'\n",
            " 'Davies, Mr. Joseph' 'Sage, Miss. Ada' 'Veal, Mr. James'\n",
            " 'Angle, Mr. William A' 'Salomon, Mr. Abraham L'\n",
            " 'van Billiard, Master. Walter John' 'Lingane, Mr. John'\n",
            " 'Drew, Master. Marshall Brines' 'Karlsson, Mr. Julius Konrad Eugen'\n",
            " 'Spedden, Master. Robert Douglas' 'Nilsson, Miss. Berta Olivia'\n",
            " 'Baimbrigge, Mr. Charles Robert'\n",
            " 'Rasmussen, Mrs. (Lena Jacobsen Solvang)' 'Murphy, Miss. Nora'\n",
            " 'Danbom, Master. Gilbert Sigvard Emanuel' 'Astor, Col. John Jacob'\n",
            " 'Quick, Miss. Winifred Vera' 'Andrew, Mr. Frank Thomas'\n",
            " 'Omont, Mr. Alfred Fernand' 'McGowan, Miss. Katherine'\n",
            " 'Collett, Mr. Sidney C Stuart' 'Rosenbaum, Miss. Edith Louise'\n",
            " 'Delalic, Mr. Redjo' 'Andersen, Mr. Albert Karvin' 'Finoli, Mr. Luigi'\n",
            " 'Deacon, Mr. Percy William'\n",
            " 'Howard, Mrs. Benjamin (Ellen Truelove Arman)'\n",
            " 'Andersson, Miss. Ida Augusta Margareta' 'Head, Mr. Christopher'\n",
            " 'Mahon, Miss. Bridget Delia' 'Wick, Mr. George Dennick'\n",
            " 'Widener, Mrs. George Dunton (Eleanor Elkins)'\n",
            " 'Thomson, Mr. Alexander Morrison' 'Duran y More, Miss. Florentina'\n",
            " 'Reynolds, Mr. Harold J' 'Cook, Mrs. (Selena Rogers)'\n",
            " 'Karlsson, Mr. Einar Gervasius'\n",
            " 'Candee, Mrs. Edward (Helen Churchill Hungerford)'\n",
            " 'Moubarek, Mrs. George (Omine Amenia\" Alexander)\"'\n",
            " 'Asplund, Mr. Johan Charles' 'McNeill, Miss. Bridget'\n",
            " 'Everett, Mr. Thomas James' 'Hocking, Mr. Samuel James Metcalfe'\n",
            " 'Sweet, Mr. George Frederick' 'Willard, Miss. Constance'\n",
            " 'Wiklund, Mr. Karl Johan' 'Linehan, Mr. Michael'\n",
            " 'Cumings, Mr. John Bradley' 'Vendel, Mr. Olof Edvin'\n",
            " 'Warren, Mr. Frank Manley' 'Baccos, Mr. Raffull' 'Hiltunen, Miss. Marta'\n",
            " 'Douglas, Mrs. Walter Donald (Mahala Dutton)'\n",
            " 'Lindstrom, Mrs. Carl Johan (Sigrid Posse)'\n",
            " 'Christy, Mrs. (Alice Frances)' 'Spedden, Mr. Frederic Oakley'\n",
            " 'Hyman, Mr. Abraham' 'Johnston, Master. William Arthur Willie\"\"'\n",
            " 'Kenyon, Mr. Frederick R' 'Karnes, Mrs. J Frank (Claire Bennett)'\n",
            " 'Drew, Mr. James Vivian' 'Hold, Mrs. Stephen (Annie Margaret Hill)'\n",
            " 'Khalil, Mrs. Betros (Zahie Maria\" Elias)\"' 'West, Miss. Barbara J'\n",
            " 'Abrahamsson, Mr. Abraham August Johannes' 'Clark, Mr. Walter Miller'\n",
            " 'Salander, Mr. Karl Johan' 'Wenzel, Mr. Linhart'\n",
            " 'MacKay, Mr. George William' 'Mahon, Mr. John' 'Niklasson, Mr. Samuel'\n",
            " 'Bentham, Miss. Lilian W' 'Midtsjo, Mr. Karl Albert'\n",
            " 'de Messemaeker, Mr. Guillaume Joseph' 'Nilsson, Mr. August Ferdinand'\n",
            " 'Wells, Mrs. Arthur Henry (Addie\" Dart Trevaskis)\"'\n",
            " 'Klasen, Miss. Gertrud Emilia' 'Portaluppi, Mr. Emilio Ilario Giuseppe'\n",
            " 'Lyntakoff, Mr. Stanko' 'Chisholm, Mr. Roderick Robert Crispin'\n",
            " 'Warren, Mr. Charles William' 'Howard, Miss. May Elizabeth'\n",
            " 'Pokrnic, Mr. Mate' 'McCaffry, Mr. Thomas Francis' 'Fox, Mr. Patrick'\n",
            " 'Clark, Mrs. Walter Miller (Virginia McDowell)' 'Lennon, Miss. Mary'\n",
            " 'Saade, Mr. Jean Nassr' 'Bryhl, Miss. Dagmar Jenny Ingeborg '\n",
            " 'Parker, Mr. Clifford Richard' 'Faunthorpe, Mr. Harry'\n",
            " 'Ware, Mr. John James' 'Oxenham, Mr. Percy Thomas'\n",
            " 'Oreskovic, Miss. Jelka' 'Peacock, Master. Alfred Edward'\n",
            " 'Fleming, Miss. Honora' 'Touma, Miss. Maria Youssef'\n",
            " 'Rosblom, Miss. Salli Helena' 'Dennis, Mr. William'\n",
            " 'Franklin, Mr. Charles (Charles Fardon)' 'Snyder, Mr. John Pillsbury'\n",
            " 'Mardirosian, Mr. Sarkis' 'Ford, Mr. Arthur'\n",
            " 'Rheims, Mr. George Alexander Lucien'\n",
            " 'Daly, Miss. Margaret Marcella Maggie\"\"' 'Nasr, Mr. Mustafa'\n",
            " 'Dodge, Dr. Washington' 'Wittevrongel, Mr. Camille'\n",
            " 'Angheloff, Mr. Minko' 'Laroche, Miss. Louise' 'Samaan, Mr. Hanna'\n",
            " 'Loring, Mr. Joseph Holland' 'Johansson, Mr. Nils'\n",
            " 'Olsson, Mr. Oscar Wilhelm' 'Malachard, Mr. Noel'\n",
            " 'Phillips, Mr. Escott Robert' 'Pokrnic, Mr. Tome'\n",
            " 'McCarthy, Miss. Catherine Katie\"\"'\n",
            " 'Crosby, Mrs. Edward Gifford (Catherine Elizabeth Halstead)'\n",
            " 'Allison, Mr. Hudson Joshua Creighton' 'Aks, Master. Philip Frank'\n",
            " 'Hays, Mr. Charles Melville' 'Hansen, Mrs. Claus Peter (Jennie L Howard)'\n",
            " 'Cacic, Mr. Jego Grga' 'Vartanian, Mr. David' 'Sadowitz, Mr. Harry'\n",
            " 'Carr, Miss. Jeannie' 'White, Mrs. John Stuart (Ella Holmes)'\n",
            " 'Hagardon, Miss. Kate' 'Spencer, Mr. William Augustus'\n",
            " 'Rogers, Mr. Reginald Harry' 'Jonsson, Mr. Nils Hilding'\n",
            " 'Jefferys, Mr. Ernest Wilfred' 'Andersson, Mr. Johan Samuel'\n",
            " 'Krekorian, Mr. Neshan' 'Nesson, Mr. Israel' 'Rowe, Mr. Alfred G'\n",
            " 'Kreuchen, Miss. Emilie' 'Assam, Mr. Ali' 'Becker, Miss. Ruth Elizabeth'\n",
            " 'Rosenshine, Mr. George (Mr George Thorne\")\"'\n",
            " 'Clarke, Mr. Charles Valentine' 'Enander, Mr. Ingvar'\n",
            " 'Davies, Mrs. John Morgan (Elizabeth Agnes Mary White) '\n",
            " 'Dulles, Mr. William Crothers' 'Thomas, Mr. Tannous'\n",
            " 'Nakid, Mrs. Said (Waika Mary\" Mowad)\"' 'Cor, Mr. Ivan'\n",
            " 'Maguire, Mr. John Edward' 'de Brito, Mr. Jose Joaquim'\n",
            " 'Elias, Mr. Joseph' 'Denbury, Mr. Herbert' 'Betros, Master. Seman'\n",
            " 'Fillbrook, Mr. Joseph Charles' 'Lundstrom, Mr. Thure Edvin'\n",
            " 'Sage, Mr. John George'\n",
            " 'Cardeza, Mrs. James Warburton Martinez (Charlotte Wardle Drake)'\n",
            " 'van Billiard, Master. James William' 'Abelseth, Miss. Karen Marie'\n",
            " 'Botsford, Mr. William Hull'\n",
            " 'Whabee, Mrs. George Joseph (Shawneene Abi-Saab)' 'Giles, Mr. Ralph'\n",
            " 'Walcroft, Miss. Nellie' 'Greenfield, Mrs. Leo David (Blanche Strouse)'\n",
            " 'Stokes, Mr. Philip Joseph' 'Dibden, Mr. William' 'Herman, Mr. Samuel'\n",
            " 'Dean, Miss. Elizabeth Gladys Millvina\"\"' 'Julian, Mr. Henry Forbes'\n",
            " 'Brown, Mrs. John Murray (Caroline Lane Lamson)' 'Lockyer, Mr. Edward'\n",
            " \"O'Keefe, Mr. Patrick\"\n",
            " 'Lindell, Mrs. Edvard Bengtsson (Elin Gerda Persson)'\n",
            " 'Sage, Master. William Henry' 'Mallet, Mrs. Albert (Antoinette Magnin)'\n",
            " 'Ware, Mrs. John James (Florence Louise Long)' 'Strilic, Mr. Ivan'\n",
            " 'Harder, Mrs. George Achilles (Dorothy Annan)'\n",
            " 'Sage, Mrs. John (Annie Bullen)' 'Caram, Mr. Joseph'\n",
            " 'Riihivouri, Miss. Susanna Juhantytar Sanni\"\"'\n",
            " 'Gibson, Mrs. Leonard (Pauline C Boeson)' 'Pallas y Castello, Mr. Emilio'\n",
            " 'Giles, Mr. Edgar' 'Wilson, Miss. Helen Alice' 'Ismay, Mr. Joseph Bruce'\n",
            " 'Harbeck, Mr. William H' 'Dodge, Mrs. Washington (Ruth Vidaver)'\n",
            " 'Bowen, Miss. Grace Scott' 'Kink, Miss. Maria'\n",
            " 'Cotterill, Mr. Henry Harry\"\"' 'Hipkins, Mr. William Edward'\n",
            " 'Asplund, Master. Carl Edgar' \"O'Connor, Mr. Patrick\" 'Foley, Mr. Joseph'\n",
            " 'Risien, Mrs. Samuel (Emma)' \"McNamee, Mrs. Neal (Eileen O'Leary)\"\n",
            " 'Wheeler, Mr. Edwin Frederick\"\"' 'Herman, Miss. Kate'\n",
            " 'Aronsson, Mr. Ernst Axel Algot' 'Ashby, Mr. John' 'Canavan, Mr. Patrick'\n",
            " 'Palsson, Master. Paul Folke' 'Payne, Mr. Vivian Ponsonby'\n",
            " 'Lines, Mrs. Ernest H (Elizabeth Lindsey James)'\n",
            " 'Abbott, Master. Eugene Joseph' 'Gilbert, Mr. William'\n",
            " 'Kink-Heilmann, Mr. Anton'\n",
            " 'Smith, Mrs. Lucien Philip (Mary Eloise Hughes)' 'Colbert, Mr. Patrick'\n",
            " 'Frolicher-Stehli, Mrs. Maxmillian (Margaretha Emerentia Stehli)'\n",
            " 'Larsson-Rondberg, Mr. Edvard A' 'Conlon, Mr. Thomas Henry'\n",
            " 'Bonnell, Miss. Caroline' 'Gale, Mr. Harry'\n",
            " 'Gibson, Miss. Dorothy Winifred' 'Carrau, Mr. Jose Pedro'\n",
            " 'Frauenthal, Mr. Isaac Gerald'\n",
            " 'Nourney, Mr. Alfred (Baron von Drachstedt\")\"'\n",
            " 'Ware, Mr. William Jeffery' 'Widener, Mr. George Dunton'\n",
            " 'Riordan, Miss. Johanna Hannah\"\"' 'Peacock, Miss. Treasteall'\n",
            " 'Naughton, Miss. Hannah'\n",
            " 'Minahan, Mrs. William Edward (Lillian E Thorpe)'\n",
            " 'Henriksson, Miss. Jenny Lovisa' 'Spector, Mr. Woolf'\n",
            " 'Oliva y Ocana, Dona. Fermina' 'Saether, Mr. Simon Sivertsen'\n",
            " 'Ware, Mr. Frederick' 'Peter, Master. Michael J']\n",
            "\n",
            "Unique values in column Sex:\n",
            "['male' 'female']\n",
            "\n",
            "Unique values in column Age:\n",
            "[34.5  47.   62.   27.   22.   14.   30.   26.   18.   21.     nan 46.\n",
            " 23.   63.   24.   35.   45.   55.    9.   48.   50.   22.5  41.   33.\n",
            " 18.5  25.   39.   60.   36.   20.   28.   10.   17.   32.   13.   31.\n",
            " 29.   28.5  32.5   6.   67.   49.    2.   76.   43.   16.    1.   12.\n",
            " 42.   53.   26.5  40.   61.   60.5   7.   15.   54.   64.   37.   34.\n",
            " 11.5   8.    0.33 38.   57.   40.5   0.92 19.   36.5   0.75  0.83 58.\n",
            "  0.17 59.   14.5  44.    5.   51.    3.   38.5 ]\n",
            "\n",
            "Unique values in column SibSp:\n",
            "[0 1 2 3 4 5 8]\n",
            "\n",
            "Unique values in column Parch:\n",
            "[0 1 3 2 4 6 5 9]\n",
            "\n",
            "Unique values in column Ticket:\n",
            "['330911' '363272' '240276' '315154' '3101298' '7538' '330972' '248738'\n",
            " '2657' 'A/4 48871' '349220' '694' '21228' '24065' 'W.E.P. 5734'\n",
            " 'SC/PARIS 2167' '233734' '2692' 'STON/O2. 3101270' '2696' 'PC 17603'\n",
            " 'C 17368' 'PC 17598' 'PC 17597' 'PC 17608' 'A/5. 3337' '113509' '2698'\n",
            " '113054' '2662' 'SC/AH 3085' 'C.A. 31029' 'C.A. 2315' 'W./C. 6607'\n",
            " '13236' '2682' '342712' '315087' '345768' '1601' '349256' '113778'\n",
            " 'SOTON/O.Q. 3101263' '237249' '11753' 'STON/O 2. 3101291' 'PC 17594'\n",
            " '370374' '11813' 'C.A. 37671' '13695' 'SC/PARIS 2168' '29105' '19950'\n",
            " 'SC/A.3 2861' '382652' '349230' '348122' '386525' '349232' '237216'\n",
            " '347090' '334914' 'F.C.C. 13534' '330963' '113796' '2543' '382653'\n",
            " '349211' '3101297' 'PC 17562' '113503' '359306' '11770' '248744' '368702'\n",
            " '2678' 'PC 17483' '19924' '349238' '240261' '2660' '330844' 'A/4 31416'\n",
            " '364856' '29103' '347072' '345498' 'F.C. 12750' '376563' '13905' '350033'\n",
            " '19877' 'STON/O 2. 3101268' '347471' 'A./5. 3338' '11778' '228414'\n",
            " '365235' '347070' '2625' 'C 4001' '330920' '383162' '3410' '248734'\n",
            " '237734' '330968' 'PC 17531' '329944' '2680' '2681' 'PP 9549' '13050'\n",
            " 'SC/AH 29037' 'C.A. 33595' '367227' '392095' '368783' '371362' '350045'\n",
            " '367226' '211535' '342441' 'STON/OQ. 369943' '113780' '4133' '2621'\n",
            " '349226' '350409' '2656' '248659' 'SOTON/OQ 392083' 'CA 2144' '113781'\n",
            " '244358' '17475' '345763' '17463' 'SC/A4 23568' '113791' '250651' '11767'\n",
            " '349255' '3701' '350405' '347077' 'S.O./P.P. 752' '347469' '110489'\n",
            " 'SOTON/O.Q. 3101315' '335432' '2650' '220844' '343271' '237393' '315153'\n",
            " 'PC 17591' 'W./C. 6608' '17770' '7548' 'S.O./P.P. 251' '2670' '2673'\n",
            " '29750' 'C.A. 33112' '230136' 'PC 17756' '233478' '113773' '7935'\n",
            " 'PC 17558' '239059' 'S.O./P.P. 2' 'A/4 48873' 'CA. 2343' '28221' '226875'\n",
            " '111163' 'A/5. 851' '235509' '28220' '347465' '16966' '347066'\n",
            " 'C.A. 31030' '65305' '36568' '347080' 'PC 17757' '26360' 'C.A. 34050'\n",
            " 'F.C. 12998' '9232' '28034' 'PC 17613' '349250' 'SOTON/O.Q. 3101308'\n",
            " 'S.O.C. 14879' '347091' '113038' '330924' '36928' '32302' 'SC/PARIS 2148'\n",
            " '342684' 'W./C. 14266' '350053' 'PC 17606' '2661' '350054' '370368'\n",
            " 'C.A. 6212' '242963' '220845' '113795' '3101266' '330971' 'PC 17599'\n",
            " '350416' '110813' '2679' '250650' 'PC 17761' '112377' '237789' '3470'\n",
            " '17464' '26707' 'C.A. 34651' 'SOTON/O2 3101284' '13508' '7266' '345775'\n",
            " 'C.A. 42795' 'AQ/4 3130' '363611' '28404' '345501' '345572' '350410'\n",
            " 'C.A. 34644' '349235' '112051' 'C.A. 49867' 'A. 2. 39186' '315095'\n",
            " '368573' '370371' '2676' '236853' 'SC 14888' '2926' 'CA 31352'\n",
            " 'W./C. 14260' '315085' '364859' '370129' 'A/5 21175' 'SOTON/O.Q. 3101314'\n",
            " '2655' 'A/5 1478' 'PC 17607' '382650' '2652' '33638' '345771' '349202'\n",
            " 'SC/Paris 2123' '113801' '347467' '347079' '237735' '315092' '383123'\n",
            " '112901' '392091' '12749' '350026' '315091' '2658' 'LP 1588' '368364'\n",
            " 'PC 17760' 'AQ/3. 30631' 'PC 17569' '28004' '350408' '347075' '2654'\n",
            " '244368' '113790' '24160' 'SOTON/O.Q. 3101309' 'PC 17585' '2003' '236854'\n",
            " 'PC 17580' '2684' '2653' '349229' '110469' '244360' '2675' '2622'\n",
            " 'C.A. 15185' '350403' 'PC 17755' '348125' '237670' '2688' '248726'\n",
            " 'F.C.C. 13528' 'PC 17759' 'F.C.C. 13540' '113044' '11769' '1222' '368402'\n",
            " '349910' 'S.C./PARIS 2079' '315083' '11765' '2689' '3101295' '112378'\n",
            " 'SC/PARIS 2147' '28133' '112058' '248746' '315152' '29107' '680' '366713'\n",
            " '330910' '364498' '376566' 'SC/PARIS 2159' '349911' '244346' '364858'\n",
            " '349909' 'PC 17592' 'C.A. 2673' 'C.A. 30769' '371109' '13567' '347065'\n",
            " '21332' '28664' '113059' '17765' 'SC/PARIS 2166' '28666' '334915'\n",
            " '365237' '19928' '347086' 'A.5. 3236' 'PC 17758' 'SOTON/O.Q. 3101262'\n",
            " '359309' '2668']\n",
            "\n",
            "Unique values in column Fare:\n",
            "[  7.8292   7.       9.6875   8.6625  12.2875   9.225    7.6292  29.\n",
            "   7.2292  24.15     7.8958  26.      82.2667  61.175   27.7208  12.35\n",
            "   7.225    7.925   59.4      3.1708  31.6833  61.3792 262.375   14.5\n",
            "  61.9792  30.5     21.6792  31.5     20.575   23.45    57.75     8.05\n",
            "   9.5     56.4958  13.4167  26.55     7.85    13.      52.5542  29.7\n",
            "   7.75    76.2917  15.9     60.      15.0333  23.     263.      15.5792\n",
            "  29.125    7.65    16.1     13.5      7.725   21.       7.8792  42.4\n",
            "  28.5375 211.5     25.7     15.2458 221.7792  10.7083  14.4542  13.9\n",
            "   7.775   52.       7.7958  78.85     7.8542  55.4417   8.5167  22.525\n",
            "   7.8208   8.7125  15.0458   7.7792  31.6792   7.2833   6.4375  16.7\n",
            "  75.2417  15.75     7.25    23.25    28.5     25.4667  46.9    151.55\n",
            "  18.      51.8625  83.1583      nan  12.1833  31.3875   7.55    13.775\n",
            "   7.7333  22.025   50.4958  34.375    8.9625  39.      36.75    53.1\n",
            " 247.5208  16.      69.55    32.5    134.5     10.5      8.1125  15.5\n",
            "  14.4    227.525   25.7417   7.05    73.5     42.5    164.8667  13.8583\n",
            "  27.4458  15.1     65.       6.4958  71.2833  75.25   106.425   30.\n",
            "   7.8875  27.75   136.7792   9.325   17.4     12.7375   0.      20.2125\n",
            "  39.6      6.95    81.8583  41.5792  45.5      9.35    93.5     14.1083\n",
            "   7.575  135.6333 146.5208 211.3375  79.2     15.7417   7.5792 512.3292\n",
            "  63.3583  51.4792  15.55    37.0042  14.4583  39.6875  11.5     50.\n",
            "  12.875   21.075   39.4     20.25    47.1     13.8625   7.7208  90.\n",
            " 108.9     22.3583]\n",
            "\n",
            "Unique values in column Cabin:\n",
            "[nan 'B45' 'E31' 'B57 B59 B63 B66' 'B36' 'A21' 'C78' 'D34' 'D19' 'A9'\n",
            " 'D15' 'C31' 'C23 C25 C27' 'F G63' 'B61' 'C53' 'D43' 'C130' 'C132' 'C101'\n",
            " 'C55 C57' 'B71' 'C46' 'C116' 'F' 'A29' 'G6' 'C6' 'C28' 'C51' 'E46' 'C54'\n",
            " 'C97' 'D22' 'B10' 'F4' 'E45' 'E52' 'D30' 'B58 B60' 'E34' 'C62 C64' 'A11'\n",
            " 'B11' 'C80' 'F33' 'C85' 'D37' 'C86' 'D21' 'C89' 'F E46' 'A34' 'D' 'B26'\n",
            " 'C22 C26' 'B69' 'C32' 'B78' 'F E57' 'F2' 'A18' 'C106' 'B51 B53 B55'\n",
            " 'D10 D12' 'E60' 'E50' 'E39 E41' 'B52 B54 B56' 'C39' 'B24' 'D28' 'B41'\n",
            " 'C7' 'D40' 'D38' 'C105']\n",
            "\n",
            "Unique values in column Embarked:\n",
            "['Q' 'S' 'C']\n",
            "\n"
          ]
        }
      ],
      "source": [
        "for column in titanic_data.columns:\n",
        "    unique_values = titanic_data[column].unique()\n",
        "    print(f\"Unique values in column {column}:\")\n",
        "    print(unique_values)\n",
        "    print()\n"
      ]
    },
    {
      "cell_type": "markdown",
      "id": "f68d3bfe",
      "metadata": {
        "id": "f68d3bfe"
      },
      "source": [
        "### 6) Find the columns that has null values in them"
      ]
    },
    {
      "cell_type": "markdown",
      "source": [],
      "metadata": {
        "id": "Mn81EI2IFYM5"
      },
      "id": "Mn81EI2IFYM5"
    },
    {
      "cell_type": "markdown",
      "id": "62f6b845",
      "metadata": {
        "id": "62f6b845"
      },
      "source": [
        "Hint: You can use isnull() function"
      ]
    },
    {
      "cell_type": "code",
      "execution_count": 8,
      "id": "daf09bac",
      "metadata": {
        "id": "daf09bac",
        "colab": {
          "base_uri": "https://localhost:8080/"
        },
        "outputId": "7966569c-3cec-4594-dd32-26e72f87f651"
      },
      "outputs": [
        {
          "output_type": "stream",
          "name": "stdout",
          "text": [
            "Columns with null values:\n",
            "Index(['Age', 'Fare', 'Cabin'], dtype='object')\n"
          ]
        }
      ],
      "source": [
        "columns_with_null_values = titanic_data.columns[titanic_data.isnull().any()]\n",
        "print(\"Columns with null values:\")\n",
        "print(columns_with_null_values)\n"
      ]
    },
    {
      "cell_type": "markdown",
      "id": "78c88547",
      "metadata": {
        "id": "78c88547"
      },
      "source": [
        "\n",
        "\n",
        "```\n",
        "# This is formatted as code\n",
        "```\n",
        "\n",
        "### 7) Show various statistics of all the numerical columns\n",
        "\n",
        "Hint: Use describe()"
      ]
    },
    {
      "cell_type": "code",
      "execution_count": 9,
      "id": "729acc13",
      "metadata": {
        "id": "729acc13",
        "colab": {
          "base_uri": "https://localhost:8080/"
        },
        "outputId": "23cde51e-1752-4321-fb76-9de88c487f7b"
      },
      "outputs": [
        {
          "output_type": "stream",
          "name": "stdout",
          "text": [
            "       PassengerId    Survived      Pclass         Age       SibSp  \\\n",
            "count   418.000000  418.000000  418.000000  332.000000  418.000000   \n",
            "mean   1100.500000    0.363636    2.265550   30.272590    0.447368   \n",
            "std     120.810458    0.481622    0.841838   14.181209    0.896760   \n",
            "min     892.000000    0.000000    1.000000    0.170000    0.000000   \n",
            "25%     996.250000    0.000000    1.000000   21.000000    0.000000   \n",
            "50%    1100.500000    0.000000    3.000000   27.000000    0.000000   \n",
            "75%    1204.750000    1.000000    3.000000   39.000000    1.000000   \n",
            "max    1309.000000    1.000000    3.000000   76.000000    8.000000   \n",
            "\n",
            "            Parch        Fare  \n",
            "count  418.000000  417.000000  \n",
            "mean     0.392344   35.627188  \n",
            "std      0.981429   55.907576  \n",
            "min      0.000000    0.000000  \n",
            "25%      0.000000    7.895800  \n",
            "50%      0.000000   14.454200  \n",
            "75%      0.000000   31.500000  \n",
            "max      9.000000  512.329200  \n"
          ]
        }
      ],
      "source": [
        "numerical_columns = titanic_data.select_dtypes(include='number')\n",
        "statistics = numerical_columns.describe()\n",
        "print(statistics)\n"
      ]
    },
    {
      "cell_type": "markdown",
      "id": "fbd13819",
      "metadata": {
        "id": "fbd13819"
      },
      "source": [
        "### 8) Drop the column that has maximum null values and update the Dataframe"
      ]
    },
    {
      "cell_type": "code",
      "execution_count": 11,
      "id": "f5695aae",
      "metadata": {
        "id": "f5695aae"
      },
      "outputs": [],
      "source": [
        "column_with_max_null = titanic_data.isnull().sum().idxmax()\n",
        "titanic_data = titanic_data.drop(column_with_max_null, axis=1)\n"
      ]
    },
    {
      "cell_type": "markdown",
      "id": "cc8807e8",
      "metadata": {
        "id": "cc8807e8"
      },
      "source": [
        "### 9) Display the data type of the remaining columns(use updated dataframe)"
      ]
    },
    {
      "cell_type": "code",
      "execution_count": 12,
      "id": "201add96",
      "metadata": {
        "id": "201add96",
        "colab": {
          "base_uri": "https://localhost:8080/"
        },
        "outputId": "5cd439c7-59f8-407a-803a-95219f4a6748"
      },
      "outputs": [
        {
          "output_type": "stream",
          "name": "stdout",
          "text": [
            "PassengerId      int64\n",
            "Survived         int64\n",
            "Pclass           int64\n",
            "Name            object\n",
            "Sex             object\n",
            "SibSp            int64\n",
            "Parch            int64\n",
            "Ticket          object\n",
            "Fare           float64\n",
            "Embarked        object\n",
            "dtype: object\n"
          ]
        }
      ],
      "source": [
        "column_with_max_null = titanic_data.isnull().sum().idxmax()\n",
        "titanic_data.drop(column_with_max_null, axis=1, inplace=True)\n",
        "\n",
        "column_data_types = titanic_data.dtypes\n",
        "print(column_data_types)\n"
      ]
    },
    {
      "cell_type": "markdown",
      "id": "8ba5fa0e",
      "metadata": {
        "id": "8ba5fa0e"
      },
      "source": [
        "### 10) Display the sex ratio (female /male)\n",
        "use value_counts()"
      ]
    },
    {
      "cell_type": "code",
      "execution_count": 13,
      "id": "07deb9c0",
      "metadata": {
        "id": "07deb9c0",
        "colab": {
          "base_uri": "https://localhost:8080/"
        },
        "outputId": "c9af0fa2-1ff3-4c5e-aeea-56c06517731c"
      },
      "outputs": [
        {
          "output_type": "stream",
          "name": "stdout",
          "text": [
            "Sex Ratio (Female/Male): 0.5714285714285714\n"
          ]
        }
      ],
      "source": [
        "sex_counts = titanic_data[\"Sex\"].value_counts()\n",
        "sex_ratio = sex_counts[\"female\"] / sex_counts[\"male\"]\n",
        "print(\"Sex Ratio (Female/Male):\", sex_ratio)\n"
      ]
    },
    {
      "cell_type": "markdown",
      "id": "235fbe14",
      "metadata": {
        "id": "235fbe14"
      },
      "source": [
        "### 11) Find the number of people that Survived"
      ]
    },
    {
      "cell_type": "code",
      "execution_count": 14,
      "id": "8fa67a01",
      "metadata": {
        "id": "8fa67a01",
        "colab": {
          "base_uri": "https://localhost:8080/"
        },
        "outputId": "787bb68d-5396-4983-d1ff-6682fb565c02"
      },
      "outputs": [
        {
          "output_type": "stream",
          "name": "stdout",
          "text": [
            "Number of people who survived: 152\n"
          ]
        }
      ],
      "source": [
        "survived_counts = titanic_data[\"Survived\"].value_counts()\n",
        "survived_count = survived_counts[1]  # Get the count of people who survived\n",
        "print(\"Number of people who survived:\", survived_count)\n"
      ]
    },
    {
      "cell_type": "markdown",
      "id": "66e18a9f",
      "metadata": {
        "id": "66e18a9f"
      },
      "source": [
        "### 12) Find the person with maximum and minimum age\n",
        "use .max() and .min() <br>\n",
        "You need to print the row of the dataframe where the person with max and min age is present"
      ]
    },
    {
      "cell_type": "code",
      "execution_count": 21,
      "id": "450ed385",
      "metadata": {
        "id": "450ed385",
        "colab": {
          "base_uri": "https://localhost:8080/"
        },
        "outputId": "c95e48f7-9e8a-47b7-a3fd-4b0643e79e85"
      },
      "outputs": [
        {
          "output_type": "stream",
          "name": "stdout",
          "text": [
            "   PassengerId  Survived  Pclass  \\\n",
            "0          892         0       3   \n",
            "1          893         1       3   \n",
            "2          894         0       2   \n",
            "3          895         0       3   \n",
            "4          896         1       3   \n",
            "\n",
            "                                           Name     Sex   Age  SibSp  Parch  \\\n",
            "0                              Kelly, Mr. James    male  34.5      0      0   \n",
            "1              Wilkes, Mrs. James (Ellen Needs)  female  47.0      1      0   \n",
            "2                     Myles, Mr. Thomas Francis    male  62.0      0      0   \n",
            "3                              Wirz, Mr. Albert    male  27.0      0      0   \n",
            "4  Hirvonen, Mrs. Alexander (Helga E Lindqvist)  female  22.0      1      1   \n",
            "\n",
            "    Ticket     Fare Cabin Embarked  \n",
            "0   330911   7.8292   NaN        Q  \n",
            "1   363272   7.0000   NaN        S  \n",
            "2   240276   9.6875   NaN        Q  \n",
            "3   315154   8.6625   NaN        S  \n",
            "4  3101298  12.2875   NaN        S  \n",
            "Person with maximum age:\n",
            "    PassengerId  Survived  Pclass  \\\n",
            "96          988         1       1   \n",
            "\n",
            "                                                 Name     Sex   Age  SibSp  \\\n",
            "96  Cavendish, Mrs. Tyrell William (Julia Florence...  female  76.0      1   \n",
            "\n",
            "    Parch Ticket   Fare Cabin Embarked  \n",
            "96      0  19877  78.85   C46        S  \n",
            "Person with minimum age:\n",
            "     PassengerId  Survived  Pclass                                     Name  \\\n",
            "354         1246         1       3  Dean, Miss. Elizabeth Gladys Millvina\"\"   \n",
            "\n",
            "        Sex   Age  SibSp  Parch     Ticket    Fare Cabin Embarked  \n",
            "354  female  0.17      1      2  C.A. 2315  20.575   NaN        S  \n"
          ]
        }
      ],
      "source": [
        "\n",
        "\n",
        "# Import the original DataFrame\n",
        "import pandas as pd\n",
        "\n",
        "# Read the CSV file and assign it to a variable\n",
        "titanic_data = pd.read_csv('titanic.csv')\n",
        "\n",
        "# Print the first 5 entries of the DataFrame\n",
        "print(titanic_data.head())\n",
        "\n",
        "# Print the row with the maximum age\n",
        "max_age_row = titanic_data[titanic_data['Age'] == titanic_data['Age'].max()]\n",
        "print(\"Person with maximum age:\")\n",
        "print(max_age_row)\n",
        "\n",
        "# Print the row with the minimum age\n",
        "min_age_row = titanic_data[titanic_data['Age'] == titanic_data['Age'].min()]\n",
        "print(\"Person with minimum age:\")\n",
        "print(min_age_row)\n"
      ]
    },
    {
      "cell_type": "code",
      "execution_count": null,
      "id": "008eb3c6",
      "metadata": {
        "id": "008eb3c6"
      },
      "outputs": [],
      "source": []
    },
    {
      "cell_type": "markdown",
      "id": "a31ad9ed",
      "metadata": {
        "id": "a31ad9ed"
      },
      "source": [
        "### 13) Find the number of Class 2 tickets sold"
      ]
    },
    {
      "cell_type": "code",
      "execution_count": 22,
      "id": "bc47d22b",
      "metadata": {
        "id": "bc47d22b",
        "colab": {
          "base_uri": "https://localhost:8080/"
        },
        "outputId": "66580fca-f294-421d-b872-c491b63f0233"
      },
      "outputs": [
        {
          "output_type": "stream",
          "name": "stdout",
          "text": [
            "Number of Class 2 tickets sold: 93\n"
          ]
        }
      ],
      "source": [
        "class_2_count = titanic_data['Pclass'].value_counts()[2]\n",
        "print(\"Number of Class 2 tickets sold:\", class_2_count)\n"
      ]
    },
    {
      "cell_type": "markdown",
      "id": "8b091ec3",
      "metadata": {
        "id": "8b091ec3"
      },
      "source": [
        "### 14) Find the number of females who survived the crash"
      ]
    },
    {
      "cell_type": "code",
      "execution_count": 24,
      "id": "8d225761",
      "metadata": {
        "id": "8d225761",
        "colab": {
          "base_uri": "https://localhost:8080/"
        },
        "outputId": "5475dd5d-54c0-4eba-d39f-7e8dc0fc9947"
      },
      "outputs": [
        {
          "output_type": "stream",
          "name": "stdout",
          "text": [
            "Number of females who survived: 152\n"
          ]
        }
      ],
      "source": [
        "female_survivors = titanic_data[(titanic_data['Sex'] == 'female') & (titanic_data['Survived'] == 1)]\n",
        "female_survivor_count = female_survivors.shape[0]\n",
        "print(\"Number of females who survived:\", female_survivor_count)\n"
      ]
    },
    {
      "cell_type": "markdown",
      "id": "b7057097",
      "metadata": {
        "id": "b7057097"
      },
      "source": [
        "### 15) Find the number of people who survived the crash and who paid fare less than 200"
      ]
    },
    {
      "cell_type": "code",
      "execution_count": 26,
      "id": "69c52421",
      "metadata": {
        "id": "69c52421",
        "colab": {
          "base_uri": "https://localhost:8080/"
        },
        "outputId": "c77292cf-b56b-4399-8ac0-1e28ec354943"
      },
      "outputs": [
        {
          "output_type": "stream",
          "name": "stdout",
          "text": [
            "Number of people who survived and paid fare less than 200: 140\n"
          ]
        }
      ],
      "source": [
        "survivors_low_fare = titanic_data[(titanic_data['Survived'] == 1) & (titanic_data['Fare'] < 200)]\n",
        "survivors_low_fare_count = survivors_low_fare.shape[0]\n",
        "print(\"Number of people who survived and paid fare less than 200:\", survivors_low_fare_count)\n"
      ]
    },
    {
      "cell_type": "markdown",
      "id": "9bd9a566",
      "metadata": {
        "id": "9bd9a566"
      },
      "source": [
        "### Extra Questions (Will not be considered for evaluation)"
      ]
    },
    {
      "cell_type": "code",
      "source": [
        "import matplotlib.pyplot as plt\n",
        "\n",
        "# Count the number of passengers in each passenger class\n",
        "passenger_counts = titanic_data['Pclass'].value_counts()\n",
        "\n",
        "# Create the bar plot\n",
        "plt.bar(passenger_counts.index, passenger_counts.values)\n",
        "\n",
        "# Set labels and title\n",
        "plt.xlabel('Passenger Class')\n",
        "plt.ylabel('Number of Passengers')\n",
        "plt.title('Distribution of Passengers by Passenger Class')\n",
        "\n",
        "# Show the plot\n",
        "plt.show()\n"
      ],
      "metadata": {
        "colab": {
          "base_uri": "https://localhost:8080/",
          "height": 472
        },
        "id": "XbXokFwwMOhW",
        "outputId": "7224bbe4-c6f8-4f4b-c5bf-936323196f7f"
      },
      "id": "XbXokFwwMOhW",
      "execution_count": 25,
      "outputs": [
        {
          "output_type": "display_data",
          "data": {
            "text/plain": [
              "<Figure size 640x480 with 1 Axes>"
            ],
            "image/png": "[encoded data removed]"
          },
          "metadata": {}
        }
      ]
    },
    {
      "cell_type": "code",
      "source": [],
      "metadata": {
        "id": "S_acb_xdLA6d"
      },
      "id": "S_acb_xdLA6d",
      "execution_count": null,
      "outputs": []
    }
  ],
  "metadata": {
    "kernelspec": {
      "display_name": "Python 3 (ipykernel)",
      "language": "python",
      "name": "python3"
    },
    "language_info": {
      "codemirror_mode": {
        "name": "ipython",
        "version": 3
      },
      "file_extension": ".py",
      "mimetype": "text/x-python",
      "name": "python",
      "nbconvert_exporter": "python",
      "pygments_lexer": "ipython3",
      "version": "3.9.7"
    },
    "colab": {
      "provenance": [],
      "include_colab_link": true
    }
  },
  "nbformat": 4,
  "nbformat_minor": 5
}